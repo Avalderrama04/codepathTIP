{
 "cells": [
  {
   "cell_type": "markdown",
   "metadata": {},
   "source": [
    "### Infinity\n",
    "\n",
    "We can represent positive and negative infinity with the following syntax. Infinity is often used as an initial value when finding some unknown value, especially a minimum or maximum value. In the above example, infinity is used to find the minimum value in a list of numbers. We assume the minimum is the largest number possible (infinity), then update our assumption as we iterate through the list and find values lower than infinity.\n",
    "\n",
    "Infinity is also commonly used as a return value to handle edge cases.\n"
   ]
  },
  {
   "cell_type": "code",
   "execution_count": 4,
   "metadata": {},
   "outputs": [],
   "source": [
    "positive_infinity = float('inf')\n",
    "\n",
    "negative_infinity = float('-inf')"
   ]
  },
  {
   "cell_type": "code",
   "execution_count": 5,
   "metadata": {},
   "outputs": [],
   "source": [
    "lst = [5, 4, 3, 2, 1]\n",
    "\n",
    "def get_min(lst):   \n",
    "    minimum = float('inf')\n",
    "    for num in lst:\n",
    "        if num < minimum:\n",
    "            minimum = num\n",
    "\n",
    "    return minimum"
   ]
  },
  {
   "cell_type": "markdown",
   "metadata": {},
   "source": [
    "### Enumerate\n",
    "\n",
    "numerate(x) takes an iterable such as a list, dictionary, or string, and adds a counter to the function. It is often used to loop over the indices and values of an iterable simultaneously.\n",
    "\n",
    "Accepts two parameters:\n",
    "- x: an iterable object such as a list, dictionary, or string. This is a required parameter.\n",
    "- start: the value to start the counter at. This is an optional parameter. If no default value is specified, the counter will start at 0.\n",
    "Returns a sequence of numbers coupled with values in given iterable"
   ]
  },
  {
   "cell_type": "markdown",
   "metadata": {},
   "source": [
    "### Zip\n",
    "\n",
    "zip(x, y) takes two or more iterables and returns a sequence of tuples where each the first item from each iterable forms the first tuple in the sequence, the second item from each iterable forms a second tuple, and so on. It continues until it has placed all elements in the shortest iterable into a function. Try it\n",
    "\n",
    "Zip is useful for iterating over multiple iterables in parallel or for combining data from separate iterables.\n",
    "\n",
    "Accepts two or more parameters:\n",
    "- x: an iterable object such as a list, dictionary, or string.\n",
    "- y: an iterable object such as a list, dictionary, or string.\n",
    "Optionally accepts additional iterables to zip with x and y\n",
    "\n",
    "Returns a sequence of tuples pairing `x[i]` with `y[i]` where `0 <= i <= min(len(x), len(y))`\n"
   ]
  },
  {
   "cell_type": "markdown",
   "metadata": {},
   "source": [
    "### Sets\n",
    "\n",
    "A built-in data structure in Python that represent an unordered collection of unique elements. They are often used to track seen values, eliminate duplicates, and find overlap between multiple pieces of data.\n",
    "\n",
    "Sets maintain the following characteristics:\n",
    "\n",
    "- Unordered: Sets do not maintain any particular order of elements (i.e. they are not indexed like lists or strings).\n",
    "- Unique elements: Every element in a set must be unique. If a duplicate value is added to a set, the set will automatically remove the duplicate.\n",
    "- Mutable: Sets can be modified. Values can be added or removed without needing to make a new set.\n",
    "- Iterable: Sets can be iterated over using a loop\n",
    "\n",
    "A new set can be created using curly braces `{}` or using the `set()` function.\n",
    "\n",
    "**Set operators** \n",
    "\n",
    "- Union: `a | b:` Returns the set of elements contained in either set a or set b.\n",
    "- Intersection: `a & b`:` Returns the set of elements contained in both set a or set b.\n",
    "- Difference: `a - b:` Returns the set of elements contained in set a but not in set b.\n",
    "- Symmetric Difference: `a ^ b:` Returns the set of elements contained in either set a or set b but not in both."
   ]
  },
  {
   "cell_type": "markdown",
   "metadata": {},
   "source": [
    "### Lambda Functions\n",
    "\n",
    "`lambda arg1, arg2, etc. :` expression anonymous function that returns the result of evaluating expression on arg1, arg2, etc. Try It\n",
    "\n",
    "A lambda function is an anonymous function, meaning it is a function without a name."
   ]
  },
  {
   "cell_type": "markdown",
   "metadata": {},
   "source": [
    "## Problem Set 1\n",
    "\n",
    "Problem 1: Festival Lineup\n",
    "\n",
    "Given two lists of strings artists and set_times of length n, write a function lineup() that maps each artist to their set time.\n",
    "\n",
    "An artist artists[i] has set time set_times[i]. Assume i <= 0 < n and len(artists) == len(set_times).\n"
   ]
  },
  {
   "cell_type": "code",
   "execution_count": 20,
   "metadata": {},
   "outputs": [
    {
     "name": "stdout",
     "output_type": "stream",
     "text": [
      "{'Kendrick Lamar': '9:30 PM', 'Chappell Roan': '5:00 PM', 'Mitski': '2:00 PM', 'Rosalia': '7:30 PM'}\n",
      "{}\n"
     ]
    }
   ],
   "source": [
    "def lineup(artists,set_times):\n",
    "    result = {}\n",
    "    for i,j in zip(artists, set_times):\n",
    "        result[i] = j\n",
    "    return result\n",
    "\n",
    "artists1 = [\"Kendrick Lamar\", \"Chappell Roan\", \"Mitski\", \"Rosalia\"]\n",
    "set_times1 = [\"9:30 PM\", \"5:00 PM\", \"2:00 PM\", \"7:30 PM\"]\n",
    "\n",
    "artists2 = []\n",
    "set_times2 = []\n",
    "\n",
    "print(lineup(artists1, set_times1))\n",
    "print(lineup(artists2, set_times2))"
   ]
  },
  {
   "cell_type": "markdown",
   "metadata": {},
   "source": [
    "Problem 2: Planning App\n",
    "\n",
    "You are designing an app for your festival to help attendees have the best experience possible! As part of the application, users will be able to easily search their favorite artist and find out the day, time, and stage the artist is playing at. Write a function get_artist_info() that accepts a string artist and a dictionary festival_schedule mapping artist's names to dictionaries containing the day, time, and stage they are playing on. Return the dictionary containing the information about the given artist.\n",
    "\n",
    "If the artist searched for does not exist in festival_schedule, return the dictionary {\"message\": \"Artist not found\"}."
   ]
  },
  {
   "cell_type": "code",
   "execution_count": 29,
   "metadata": {},
   "outputs": [
    {
     "name": "stdout",
     "output_type": "stream",
     "text": [
      "{'day': 'Friday', 'time': '9:00 PM', 'stage': 'Main Stage'}\n",
      "{'message': 'artist not found'}\n"
     ]
    }
   ],
   "source": [
    "def get_artist_info(artist, festival_schedule):\n",
    "    if artist not in festival_schedule:\n",
    "        return { \"message\": \"artist not found\"}\n",
    "    else:\n",
    "        return festival_schedule.get(artist) \n",
    "\n",
    "festival_schedule = {\n",
    "    \"Blood Orange\": {\"day\": \"Friday\", \"time\": \"9:00 PM\", \"stage\": \"Main Stage\"},\n",
    "    \"Metallica\": {\"day\": \"Saturday\", \"time\": \"8:00 PM\", \"stage\": \"Main Stage\"},\n",
    "    \"Kali Uchis\": {\"day\": \"Sunday\", \"time\": \"7:00 PM\", \"stage\": \"Second Stage\"},\n",
    "    \"Lawrence\": {\"day\": \"Friday\", \"time\": \"6:00 PM\", \"stage\": \"Main Stage\"}\n",
    "}\n",
    "\n",
    "print(get_artist_info(\"Blood Orange\", festival_schedule)) \n",
    "print(get_artist_info(\"Taylor Swift\", festival_schedule))  "
   ]
  },
  {
   "cell_type": "markdown",
   "metadata": {},
   "source": [
    "Problem 3: Ticket Sales\n",
    "\n",
    "A dictionary ticket_sales is used to map ticket type to number of tickets sold. Return the total number of tickets of all types sold."
   ]
  },
  {
   "cell_type": "code",
   "execution_count": 32,
   "metadata": {},
   "outputs": [
    {
     "name": "stdout",
     "output_type": "stream",
     "text": [
      "4500\n"
     ]
    }
   ],
   "source": [
    "def total_sales(ticket_sales):\n",
    "    count = 0\n",
    "    for key in ticket_sales:\n",
    "        count += ticket_sales.get(key)\n",
    "    return count\n",
    "\n",
    "ticket_sales = {\"Friday\": 200, \"Saturday\": 1000, \"Sunday\": 800, \"3-Day Pass\": 2500}\n",
    "\n",
    "print(total_sales(ticket_sales))"
   ]
  },
  {
   "cell_type": "markdown",
   "metadata": {},
   "source": [
    "Problem 4: Scheduling Conflict\n",
    "\n",
    "Demand for your festival has exceeded expectations, so you're expanding the festival to span two different venues. Some artists will perform both venues, while others will perform at just one. To ensure that there are no scheduling conflicts, implement a function identify_conflicts() that accepts two dictionaries venue1_schedule and venue2_schedule each mapping the artists playing at the venue to their set times. Return a dictionary containing the key-value pairs that are the same in each schedule."
   ]
  },
  {
   "cell_type": "code",
   "execution_count": 38,
   "metadata": {},
   "outputs": [
    {
     "name": "stdout",
     "output_type": "stream",
     "text": [
      "{'Stromae': '9:00 PM', 'HARDY': '7:00 PM'}\n"
     ]
    }
   ],
   "source": [
    "def identify_conflicts(venue1_schedule, venue2_schedule):\n",
    "    dup = {}\n",
    "    for artist, time in venue1_schedule.items():\n",
    "        if venue2_schedule.get(artist) == time:\n",
    "            dup[artist] = time\n",
    "    return dup\n",
    "\n",
    "venue1_schedule = {\n",
    "    \"Stromae\": \"9:00 PM\",\n",
    "    \"Janelle Monáe\": \"8:00 PM\",\n",
    "    \"HARDY\": \"7:00 PM\",\n",
    "    \"Bruce Springsteen\": \"6:00 PM\"\n",
    "}\n",
    "\n",
    "venue2_schedule = {\n",
    "    \"Stromae\": \"9:00 PM\",\n",
    "    \"Janelle Monáe\": \"10:30 PM\",\n",
    "    \"HARDY\": \"7:00 PM\",\n",
    "    \"Wizkid\": \"6:00 PM\"\n",
    "}\n",
    "\n",
    "print(identify_conflicts(venue1_schedule, venue2_schedule))"
   ]
  },
  {
   "cell_type": "markdown",
   "metadata": {},
   "source": [
    "Problem 5: Best Set\n",
    "\n",
    "As part of the festival, attendees cast votes for their favorite set. Given a dictionary votes that maps attendees id numbers to the artist they voted for, return the artist that had the most number of votes. If there is a tie, return any artist with the top number of votes."
   ]
  },
  {
   "cell_type": "code",
   "execution_count": null,
   "metadata": {},
   "outputs": [
    {
     "name": "stdout",
     "output_type": "stream",
     "text": [
      "SZA\n",
      "SZA\n"
     ]
    }
   ],
   "source": [
    "from collections import Counter #Using a frequency map\n",
    "def best_set(votes):\n",
    "    values = votes.values()\n",
    "    count = Counter(values)\n",
    "    return max(count, key=count.get)\n",
    "\n",
    "    \n",
    "\n",
    "votes1 = {\n",
    "    1234: \"SZA\", \n",
    "    1235: \"Yo-Yo Ma\",\n",
    "    1236: \"Ethel Cain\",\n",
    "    1237: \"Ethel Cain\",\n",
    "    1238: \"SZA\",\n",
    "    1239: \"SZA\"\n",
    "}\n",
    "\n",
    "votes2 = {\n",
    "    1234: \"SZA\", \n",
    "    1235: \"Yo-Yo Ma\",\n",
    "    1236: \"Ethel Cain\",\n",
    "    1237: \"Ethel Cain\",\n",
    "    1238: \"SZA\"\n",
    "}\n",
    "\n",
    "print(best_set(votes1))\n",
    "print(best_set(votes2))"
   ]
  },
  {
   "cell_type": "markdown",
   "metadata": {},
   "source": [
    "Problem 6: Performances with Maximum Audience\n",
    "\n",
    "You are given an array audiences consisting of positive integers representing the audience size for different performances at a music festival.\n",
    "\n",
    "Return the combined audience size of all performances in audiences with the maximum audience size.\n",
    "\n",
    "The audience size of a performance is the number of people who attended that performance."
   ]
  },
  {
   "cell_type": "code",
   "execution_count": 60,
   "metadata": {},
   "outputs": [
    {
     "name": "stdout",
     "output_type": "stream",
     "text": [
      "250\n",
      "440\n"
     ]
    }
   ],
   "source": [
    "from collections import Counter\n",
    "\n",
    "def max_audience_performances(audiences):\n",
    "    count = Counter(audiences)\n",
    "    sum = 0\n",
    "    iterate = count.get(max(count))\n",
    "    sum += max(count) * iterate\n",
    "    return sum\n",
    "\n",
    "audiences1 = [100, 200, 200, 150, 100, 250]\n",
    "audiences2 = [120, 180, 220, 150, 220]\n",
    "\n",
    "print(max_audience_performances(audiences1))\n",
    "print(max_audience_performances(audiences2))"
   ]
  },
  {
   "cell_type": "markdown",
   "metadata": {},
   "source": [
    "Problem 7: Performances with Maximum Audience II\n",
    "\n",
    "If you used a dictionary as part of your solution to max_audience_performances() in the previous problem, try reimplementing the function without using a dictionary. If you implemented max_audience_performances() without using a dictionary, try solving the problem with a dictionary.\n",
    "\n",
    "Once you've come up with your second solution, compare the two. Is one solution better than the other? Why or why not?"
   ]
  },
  {
   "cell_type": "code",
   "execution_count": 69,
   "metadata": {},
   "outputs": [
    {
     "name": "stdout",
     "output_type": "stream",
     "text": [
      "450\n",
      "440\n"
     ]
    }
   ],
   "source": [
    "def max_audience_performances(audiences):\n",
    "    left = 0\n",
    "    right = len(audiences) - 1\n",
    "    max_sum = 0\n",
    "\n",
    "    while left < right:\n",
    "        max_sum = max(max_sum, audiences[left] + audiences[right])\n",
    "        if audiences[left] < audiences[right]:\n",
    "            left += 1\n",
    "        else:\n",
    "            right -= 1\n",
    "\n",
    "    return max_sum\n",
    "\n",
    "\n",
    "audiences1 = [100, 200, 200, 150, 100, 250]\n",
    "audiences2 = [120, 180, 220, 150, 220]\n",
    "\n",
    "print(max_audience_performances(audiences1))\n",
    "print(max_audience_performances(audiences2))"
   ]
  },
  {
   "cell_type": "markdown",
   "metadata": {},
   "source": [
    "Problem 8: Popular Song Pairs\n",
    "\n",
    "Given an array of integers popularity_scores representing the popularity scores of songs in a music festival playlist, return the number of popular song pairs.\n",
    "\n",
    "A pair (i, j) is called popular if the songs have the same popularity score and i < j.\n",
    "\n",
    "Hint: number of pairs = (n x n-1)/2"
   ]
  },
  {
   "cell_type": "code",
   "execution_count": null,
   "metadata": {},
   "outputs": [
    {
     "name": "stdout",
     "output_type": "stream",
     "text": [
      "4\n",
      "6\n",
      "0\n"
     ]
    }
   ],
   "source": [
    "def num_popular_pairs(popularity_scores):\n",
    "    popularity_count = {}\n",
    "    for score in popularity_scores:\n",
    "        if score in popularity_count:\n",
    "            popularity_count[score] += 1\n",
    "        else:\n",
    "            popularity_count[score] = 1\n",
    "\n",
    "    total_pairs = 0\n",
    "    for count in popularity_count.values():\n",
    "        if count > 1:\n",
    "            total_pairs += count * (count - 1) // 2\n",
    "\n",
    "    return total_pairs\n",
    "\n",
    "popularity_scores1 = [1, 2, 3, 1, 1, 3]\n",
    "popularity_scores2 = [1, 1, 1, 1]\n",
    "popularity_scores3 = [1, 2, 3]\n",
    "\n",
    "print(num_popular_pairs(popularity_scores1))\n",
    "print(num_popular_pairs(popularity_scores2))\n",
    "print(num_popular_pairs(popularity_scores3)) "
   ]
  },
  {
   "cell_type": "markdown",
   "metadata": {},
   "source": [
    "Problem 9: Stage Arrangement Difference Between Two Performances\n",
    "\n",
    "You are given two strings s and t representing the stage arrangements of performers in two different performances at a music festival, such that every performer occurs at most once in s and t, and t is a permutation of s.\n",
    "\n",
    "The stage arrangement difference between s and t is defined as the sum of the absolute difference between the index of the occurrence of each performer in s and the index of the occurrence of the same performer in t.\n",
    "\n",
    "Return the stage arrangement difference between s and t.\n",
    "\n",
    "A permutation is a rearrangement of a sequence. For example, [3, 1, 2] and [2, 1 , 3] are both permutations of the list [1, 2, 3].\n",
    "\n",
    "Hint: Absolute value function"
   ]
  },
  {
   "cell_type": "code",
   "execution_count": null,
   "metadata": {},
   "outputs": [
    {
     "name": "stdout",
     "output_type": "stream",
     "text": [
      "1\n",
      "1\n",
      "1\n",
      "None\n",
      "1\n",
      "1\n",
      "1\n",
      "1\n",
      "1\n",
      "None\n"
     ]
    }
   ],
   "source": [
    "def find_stage_arrangement_difference(s, t):\n",
    "    \"\"\"\n",
    "    :type s: List[str]\n",
    "    :type t: List[str]\n",
    "    :rtype: int\n",
    "    \"\"\"\n",
    "\n",
    "    for i in s:\n",
    "        \n",
    "\n",
    "s1 = [\"Alice\", \"Bob\", \"Charlie\"]\n",
    "t1 = [\"Bob\", \"Alice\", \"Charlie\"]\n",
    "s2 = [\"Alice\", \"Bob\", \"Charlie\", \"David\", \"Eve\"]\n",
    "t2 = [\"Eve\", \"David\", \"Bob\", \"Alice\", \"Charlie\"]\n",
    "\n",
    "print(find_stage_arrangement_difference(s1, t1))\n",
    "print(find_stage_arrangement_difference(s2, t2))"
   ]
  },
  {
   "cell_type": "code",
   "execution_count": null,
   "metadata": {},
   "outputs": [],
   "source": []
  },
  {
   "cell_type": "code",
   "execution_count": null,
   "metadata": {},
   "outputs": [],
   "source": []
  }
 ],
 "metadata": {
  "kernelspec": {
   "display_name": "Python 3",
   "language": "python",
   "name": "python3"
  },
  "language_info": {
   "codemirror_mode": {
    "name": "ipython",
    "version": 3
   },
   "file_extension": ".py",
   "mimetype": "text/x-python",
   "name": "python",
   "nbconvert_exporter": "python",
   "pygments_lexer": "ipython3",
   "version": "3.13.0"
  }
 },
 "nbformat": 4,
 "nbformat_minor": 2
}
