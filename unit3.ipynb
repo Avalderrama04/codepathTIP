{
 "cells": [
  {
   "cell_type": "markdown",
   "metadata": {},
   "source": [
    "Problem 1: Post Format Validator\n",
    "You are managing a social media platform and need to ensure that posts are properly formatted. Each post must have balanced and correctly nested tags, such as () for mentions, [] for hashtags, and {} for links. You are given a string representing a post's content, and your task is to determine if the tags in the post are correctly formatted.\n",
    "\n",
    "A post is considered valid if:\n",
    "\n",
    "Every opening tag has a corresponding closing tag of the same type.\n",
    "Tags are closed in the correct order."
   ]
  },
  {
   "cell_type": "code",
   "execution_count": 26,
   "metadata": {},
   "outputs": [
    {
     "name": "stdout",
     "output_type": "stream",
     "text": [
      "['(']\n",
      "[]\n",
      "True\n",
      "['(']\n",
      "[]\n",
      "['[']\n",
      "[]\n",
      "['{']\n",
      "[]\n",
      "True\n",
      "['(']\n",
      "False\n"
     ]
    }
   ],
   "source": [
    "def is_valid_post_format(posts):\n",
    "    sstack = []\n",
    "    isbalanced = {\"(\":\")\",\"{\":\"}\",\"[\":\"]\"}\n",
    "    for char in posts:\n",
    "        if char in isbalanced.keys():\n",
    "            sstack.append(char)\n",
    "            print(sstack)\n",
    "        if isbalanced[sstack[-1]] == char:\n",
    "            sstack.pop()\n",
    "            print(sstack)\n",
    "\n",
    "    return len(sstack)==0      \n",
    "print(is_valid_post_format(\"()\"))\n",
    "print(is_valid_post_format(\"()[]{}\")) \n",
    "print(is_valid_post_format(\"(]\"))"
   ]
  },
  {
   "cell_type": "markdown",
   "metadata": {},
   "source": [
    "Problem 2: Reverse User Comments Queue\n",
    "On your platform, comments on posts are displayed in the order they are received. However, for a special feature, you need to reverse the order of comments before displaying them. Given a queue of comments represented as a list of strings, reverse the order using a stack."
   ]
  },
  {
   "cell_type": "code",
   "execution_count": 38,
   "metadata": {},
   "outputs": [
    {
     "name": "stdout",
     "output_type": "stream",
     "text": [
      "['Thanks for sharing.', 'Love it!', 'Great post!']\n",
      "['Well written.', 'Interesting read.', 'First!']\n"
     ]
    }
   ],
   "source": [
    "def reverse_comments_queue(comments):\n",
    "    stack = []\n",
    "    reverse = []\n",
    "    for i in comments:\n",
    "        stack.append(i)\n",
    "    while(len(stack)!= 0):\n",
    "        popped = stack.pop()\n",
    "        reverse.append(popped)\n",
    "    return reverse\n",
    "print(reverse_comments_queue([\"Great post!\", \"Love it!\", \"Thanks for sharing.\"]))\n",
    "print(reverse_comments_queue([\"First!\", \"Interesting read.\", \"Well written.\"]))"
   ]
  },
  {
   "cell_type": "markdown",
   "metadata": {},
   "source": [
    "Problem 3: Check Symmetry in Post Titles\n",
    "As part of a new feature on your social media platform, you want to highlight post titles that are symmetrical, meaning they read the same forwards and backwards when ignoring spaces, punctuation, and case. Given a post title as a string, use a new algorithmic technique the two-pointer method to determine if the title is symmetrical."
   ]
  },
  {
   "cell_type": "code",
   "execution_count": 64,
   "metadata": {},
   "outputs": [
    {
     "name": "stdout",
     "output_type": "stream",
     "text": [
      "True\n",
      "False\n"
     ]
    }
   ],
   "source": [
    "def is_symmetrical_title(title):\n",
    "    newstr = \"\"\n",
    "    for i in title:\n",
    "        if i.islower() or i.isupper() or i.isdigit():\n",
    "            newstr += i\n",
    "    left = 0\n",
    "    right = len(newstr) - 1\n",
    "    while (left < right):\n",
    "        if ((newstr[left]).lower() != (newstr[right]).lower()):\n",
    "            return False\n",
    "        left += 1\n",
    "        right -= 1\n",
    "    return True\n",
    "\n",
    "\n",
    "print(is_symmetrical_title(\"A Santa at NASA\"))\n",
    "print(is_symmetrical_title(\"Social Media\")) "
   ]
  },
  {
   "cell_type": "markdown",
   "metadata": {},
   "source": [
    "Problem 4: Engagement Boost\n",
    "You track your daily engagement rates as a list of integers, sorted in non-decreasing order. To analyze the impact of certain strategies, you decide to square each engagement rate and then sort the results in non-decreasing order.\n",
    "\n",
    "Given an integer array engagements sorted in non-decreasing order, return an array of the squares of each number sorted in non-decreasing order.\n",
    "\n",
    "Your Task:\n",
    "\n",
    "Read through the existing solution and add comments so that everyone in your pod understands how it works.\n",
    "Modify the solution below to use the two-pointer technique."
   ]
  },
  {
   "cell_type": "code",
   "execution_count": null,
   "metadata": {},
   "outputs": [],
   "source": [
    "def engagement_boost(engagements):\n",
    "    squared_engagements = []\n",
    "    \n",
    "    for i in range(len(engagements)):\n",
    "        squared_engagement = engagements[i] * engagements[i]\n",
    "        squared_engagements.append((squared_engagement, i))\n",
    "    \n",
    "    squared_engagements.sort(reverse=True)\n",
    "    \n",
    "    result = [0] * len(engagements)\n",
    "    position = len(engagements) - 1\n",
    "    \n",
    "    for square, original_index in squared_engagements:\n",
    "        result[position] = square\n",
    "        position -= 1\n",
    "    \n",
    "    return result\n",
    "\n",
    "print(engagement_boost([-4, -1, 0, 3, 10]))\n",
    "print(engagement_boost([-7, -3, 2, 3, 11]))\n"
   ]
  },
  {
   "cell_type": "markdown",
   "metadata": {},
   "source": [
    "Problem 5: Content Cleaner\n",
    "You want to make sure your posts are clean and professional. Given a string post of lowercase and uppercase English letters, you want to remove any pairs of adjacent characters where one is the lowercase version of a letter and the other is the uppercase version of the same letter. Keep removing such pairs until the post is clean.\n",
    "\n",
    "A clean post does not have two adjacent characters post[i] and post[i + 1] where:\n",
    "\n",
    "post[i] is a lowercase letter and post[i + 1] is the same letter in uppercase or vice-versa.\n",
    "Return the clean post.\n",
    "\n",
    "Note that an empty string is also considered clean."
   ]
  },
  {
   "cell_type": "code",
   "execution_count": 22,
   "metadata": {},
   "outputs": [
    {
     "name": "stdout",
     "output_type": "stream",
     "text": [
      "['p', 'o', 's', 't']\n",
      "[]\n",
      "['s']\n"
     ]
    }
   ],
   "source": [
    "def clean_post(post):\n",
    "  if (len(post) == 0):\n",
    "    return post\n",
    "  stack = []\n",
    "  for char in post:\n",
    "    if len(stack) != 0 and char.upper() == stack[-1]:\n",
    "      stack.pop()\n",
    "    if len(stack) != 0 and char.lower() == stack[-1]:\n",
    "      stack.pop()\n",
    "    else:\n",
    "      stack.append(char)\n",
    "\n",
    "  return stack\n",
    "print(clean_post(\"poOost\")) \n",
    "print(clean_post(\"abBAcC\")) \n",
    "print(clean_post(\"s\"))"
   ]
  },
  {
   "cell_type": "markdown",
   "metadata": {},
   "source": [
    "Problem 6: Post Editor\n",
    "You want to add a creative twist to your posts by reversing the order of characters in each word within your post while still preserving whitespace and the initial word order. Given a string post, use a queue to reverse the order of characters in each word within the sentence.\n"
   ]
  },
  {
   "cell_type": "code",
   "execution_count": 82,
   "metadata": {},
   "outputs": [
    {
     "name": "stdout",
     "output_type": "stream",
     "text": [
      "tsooB ruoy tnemegagne htiw eseht spit\n",
      "kcehC tuo ym tsetal golv\n"
     ]
    }
   ],
   "source": [
    "from collections import deque\n",
    "\n",
    "def edit_post(post):\n",
    "    queue = deque()\n",
    "    answer = []\n",
    "\n",
    "    for char in post:\n",
    "        if char != ' ':\n",
    "            queue.append(char)\n",
    "        else:\n",
    "            while queue:\n",
    "                answer.append(queue.pop())  # reverse current word\n",
    "            answer.append(' ')  # preserve the space\n",
    "\n",
    "    # handle the last word (if any)\n",
    "    while queue:\n",
    "        answer.append(queue.pop())\n",
    "\n",
    "    return ''.join(answer)\n",
    "\n",
    "\n",
    "print(edit_post(\"Boost your engagement with these tips\")) \n",
    "                #tsooB ruoy tnemegegna htiw esehT spit\n",
    "\n",
    "print(edit_post(\"Check out my latest vlog\")) \n",
    "\n"
   ]
  },
  {
   "cell_type": "markdown",
   "metadata": {},
   "source": [
    "Problem 1: Time Needed to Stream Movies\n",
    "There are n users in a queue waiting to stream their favorite movies, where the 0th user is at the front of the queue and the (n - 1)th user is at the back of the queue.\n",
    "\n",
    "You are given a 0-indexed integer array movies of length n where the number of movies that the ith user would like to stream is movies[i].\n",
    "\n",
    "Each user takes exactly 1 second to stream a movie. A user can only stream 1 movie at a time and has to go back to the end of the queue (which happens instantaneously) in order to stream more movies. If a user does not have any movies left to stream, they will leave the queue.\n",
    "\n",
    "Return the time taken for the user at position k (0-indexed) to finish streaming all their movies."
   ]
  },
  {
   "cell_type": "code",
   "execution_count": 83,
   "metadata": {},
   "outputs": [
    {
     "name": "stdout",
     "output_type": "stream",
     "text": [
      "None\n",
      "None\n"
     ]
    },
    {
     "data": {
      "text/plain": [
       "'\\n[2, 3, 2]\\n0      n-1\\nmovies[i] indicates how many movies a user would like to watch. so \\nat index 1, movies[i] = 2, so user wants to watch 2 movies. \\n\\n[2,3,2]-> [3,2,1] -> [2,1,2] -> [1,2,1] -> [2,1] -> [1,1] -> [0,1] = 6\\n[5,1,1,1] -> [0, 1, 1, 5] -> [0, 1, 5, 0] -> [0, 5, 0, 0] -> [5]\\n\\n\\nconvert movies into a queue, we want to track position at k\\ntuple = ()\\ntime = 9\\nfor i in movies:\\n    tuple.append(movies[i], i) -> keep track of movies and user at ith position \\nwhile queue: \\n    if i \\n'"
      ]
     },
     "execution_count": 83,
     "metadata": {},
     "output_type": "execute_result"
    }
   ],
   "source": [
    "def time_required_to_stream(movies, k):\n",
    "    pass\n",
    "\n",
    "print(time_required_to_stream([2, 3, 2], 2)) \n",
    "print(time_required_to_stream([5, 1, 1, 1], 0)) \n",
    "\n",
    "\"\"\"\n",
    "[2, 3, 2]\n",
    "0      n-1\n",
    "movies[i] indicates how many movies a user would like to watch. so \n",
    "at index 1, movies[i] = 2, so user wants to watch 2 movies. \n",
    "\n",
    "[2,3,2]-> [3,2,1] -> [2,1,2] -> [1,2,1] -> [2,1] -> [1,1] -> [0,1] = 6\n",
    "[5,1,1,1] -> [0, 1, 1, 5] -> [0, 1, 5, 0] -> [0, 5, 0, 0] -> [5]\n",
    "\n",
    "\n",
    "convert movies into a queue, we want to track position at k\n",
    "tuple = ()\n",
    "time = 9\n",
    "for i in movies:\n",
    "    tuple.append(movies[i], i) -> keep track of movies and user at ith position \n",
    "while queue: \n",
    "    if i \n",
    "\"\"\""
   ]
  },
  {
   "cell_type": "markdown",
   "metadata": {},
   "source": [
    "Problem 1: Manage Performance Stage Changes\n",
    "At a cultural festival, multiple performances are scheduled on a single stage. However, due to last-minute changes, some performances need to be rescheduled or canceled. The festival organizers use a stack to manage these changes efficiently.\n",
    "\n",
    "You are given a list changes of strings where each string represents a change action. The actions can be:\n",
    "\n",
    "\"Schedule X\": Schedule a performance with ID X on the stage.\n",
    "\"Cancel\": Cancel the most recently scheduled performance that hasn't been canceled yet.\n",
    "\"Reschedule\": Reschedule the most recently canceled performance to be the next on stage.\n",
    "Return a list of performance IDs that remain scheduled on the stage after all changes have been applied."
   ]
  },
  {
   "cell_type": "code",
   "execution_count": null,
   "metadata": {},
   "outputs": [
    {
     "name": "stdout",
     "output_type": "stream",
     "text": [
      "['Schedule A', 'Schedule C', 'Schedule B', 'Schedule D']\n",
      "[]\n",
      "['Schedule Z']\n"
     ]
    }
   ],
   "source": [
    "def manage_stage_changes(changes):\n",
    "    stack = [] \n",
    "    cancelled = None  \n",
    "    for i in changes:\n",
    "        stack.append(i)\n",
    "        if stack[-1] == \"Cancel\":\n",
    "            stack.pop()\n",
    "            if len(stack) != 0:  \n",
    "                cancelled = stack.pop()\n",
    "        if len(stack) != 0 and stack[-1] == \"Reschedule\":\n",
    "            stack[-1] = cancelled\n",
    "    return stack\n",
    "\n",
    "\n",
    "print(manage_stage_changes([\"Schedule A\", \"Schedule B\", \"Cancel\", \"Schedule C\", \"Reschedule\", \"Schedule D\"]))  \n",
    "print(manage_stage_changes([\"Schedule A\", \"Cancel\", \"Schedule B\", \"Cancel\", \"Reschedule\", \"Cancel\"])) \n",
    "print(manage_stage_changes([\"Schedule X\", \"Schedule Y\", \"Cancel\", \"Cancel\", \"Schedule Z\"])) "
   ]
  },
  {
   "cell_type": "markdown",
   "metadata": {},
   "source": [
    "Problem 2: Queue of Performance Requests\n",
    "You are organizing a festival and want to manage the queue of requests to perform. Each request has a priority. Use a queue to process the performance requests in the order they arrive but ensure that requests with higher priorities are processed before those with lower priorities. Return the order in which performances are processed."
   ]
  },
  {
   "cell_type": "code",
   "execution_count": 104,
   "metadata": {},
   "outputs": [
    {
     "name": "stdout",
     "output_type": "stream",
     "text": [
      "['Music', 'Dance', 'Drama']\n",
      "['Concert', 'Stand-up Comedy', 'Poetry', 'Magic Show']\n",
      "['Keynote Speech', 'Panel Discussion', 'Film Screening', 'Workshop', 'Art Exhibition']\n"
     ]
    }
   ],
   "source": [
    "import heapq\n",
    "def process_performance_requests(requests):\n",
    "    heapq.heapify(requests)\n",
    "    priority_queue = []\n",
    "    result = []\n",
    "    for priority, performance_name in requests:\n",
    "        heapq.heappush(priority_queue, (-priority, performance_name))\n",
    "\n",
    "    requests.sort(reverse=True)\n",
    "    for priority, performance_name in requests:\n",
    "        result.append(performance_name)\n",
    "    return result\n",
    "print(process_performance_requests([(3, 'Dance'), (5, 'Music'), (1, 'Drama')]))\n",
    "print(process_performance_requests([(2, 'Poetry'), (1, 'Magic Show'), (4, 'Concert'), (3, 'Stand-up Comedy')]))\n",
    "print(process_performance_requests([(1, 'Art Exhibition'), (3, 'Film Screening'), (2, 'Workshop'), (5, 'Keynote Speech'), (4, 'Panel Discussion')]))\n",
    "\n",
    "\n"
   ]
  },
  {
   "cell_type": "markdown",
   "metadata": {},
   "source": [
    "Problem 3: Collecting Points at Festival Booths\n",
    "At the festival, there are various booths where visitors can collect points. Each booth has a specific number of points available. Use a stack to simulate the process of collecting points and return the total points collected after visiting all booths."
   ]
  },
  {
   "cell_type": "code",
   "execution_count": 115,
   "metadata": {},
   "outputs": [
    {
     "name": "stdout",
     "output_type": "stream",
     "text": [
      "[5, 8, 3, 10]\n",
      "26\n",
      "[2, 7, 4, 6]\n",
      "19\n",
      "[1, 5, 9, 2, 8]\n",
      "25\n"
     ]
    }
   ],
   "source": [
    "def collect_festival_points(points):\n",
    "    stack = []\n",
    "    for i in points:\n",
    "        stack.append(i)\n",
    "    print(stack)\n",
    "    result = 0\n",
    "    while stack:\n",
    "        result += stack.pop()\n",
    "    return result\n",
    "\n",
    "print(collect_festival_points([5, 8, 3, 10])) \n",
    "print(collect_festival_points([2, 7, 4, 6])) \n",
    "print(collect_festival_points([1, 5, 9, 2, 8])) "
   ]
  },
  {
   "cell_type": "markdown",
   "metadata": {},
   "source": [
    "Problem 4: Festival Booth Navigation\n",
    "At the cultural festival, you are managing a treasure hunt where participants need to visit booths in a specific order. The order in which they should visit the booths is defined by a series of clues. However, some clues lead to dead ends, and participants must backtrack to previous booths to continue their journey.\n",
    "\n",
    "You are given a list of clues, where each clue is either a booth number (an integer) to visit or the word \"back\" indicating that the participant should backtrack to the previous booth.\n",
    "\n",
    "Write a function to simulate the participant's journey and return the final sequence of booths visited, in the order they were visited."
   ]
  },
  {
   "cell_type": "code",
   "execution_count": 117,
   "metadata": {},
   "outputs": [
    {
     "name": "stdout",
     "output_type": "stream",
     "text": [
      "[1, 3, 4]\n",
      "[5, 7]\n",
      "[3]\n"
     ]
    }
   ],
   "source": [
    "def booth_navigation(clues):\n",
    "    stack = []\n",
    "    for i in clues:\n",
    "        if isinstance(i,int):\n",
    "            stack.append(i)\n",
    "        else:\n",
    "            if len(stack) != 0:\n",
    "                stack.pop()\n",
    "    return stack\n",
    "\n",
    "clues = [1, 2, \"back\", 3, 4]\n",
    "print(booth_navigation(clues)) \n",
    "\n",
    "clues = [5, 3, 2, \"back\", \"back\", 7]\n",
    "print(booth_navigation(clues)) \n",
    "\n",
    "clues = [1, \"back\", 2, \"back\", \"back\", 3]\n",
    "print(booth_navigation(clues)) "
   ]
  },
  {
   "cell_type": "markdown",
   "metadata": {},
   "source": [
    "Problem 5: Merge Performance Schedules\n",
    "You are organizing a cultural festival and have two performance schedules, schedule1 and schedule2, each represented by a string where each character corresponds to a performance slot. Merge the schedules by adding performances in alternating order, starting with schedule1. If one schedule is longer than the other, append the additional performances onto the end of the merged schedule.\n",
    "\n",
    "Return the merged performance schedule."
   ]
  },
  {
   "cell_type": "code",
   "execution_count": null,
   "metadata": {},
   "outputs": [
    {
     "name": "stdout",
     "output_type": "stream",
     "text": [
      "['a', 'p', 'b', 'q', 'c', 'r']\n",
      "['a', 'p', 'b', 'q', 'r', 's']\n",
      "['a', 'p', 'b', 'q']\n"
     ]
    }
   ],
   "source": [
    "def merge_schedules(schedule1, schedule2):\n",
    "    lsched = 0\n",
    "    rsched = 0\n",
    "    result = []\n",
    "    while (lsched <= len(schedule1) and rsched <= len(schedule2)):\n",
    "        result.append(schedule1[lsched])\n",
    "        result.append(schedule2[rsched])\n",
    "        lsched += 1\n",
    "        rsched += 1\n",
    "        if lsched == len(schedule1):\n",
    "            result.extend(schedule2[rsched:])\n",
    "            break\n",
    "        if rsched == len(schedule2):\n",
    "            result.extend(schedule1[lsched:])\n",
    "            break\n",
    "    return result\n",
    "print(merge_schedules(\"abc\", \"pqr\")) \n",
    "print(merge_schedules(\"ab\", \"pqrs\")) \n",
    "print(merge_schedules(\"abcd\", \"pq\")) "
   ]
  },
  {
   "cell_type": "code",
   "execution_count": null,
   "metadata": {},
   "outputs": [],
   "source": []
  }
 ],
 "metadata": {
  "kernelspec": {
   "display_name": "base",
   "language": "python",
   "name": "python3"
  },
  "language_info": {
   "codemirror_mode": {
    "name": "ipython",
    "version": 3
   },
   "file_extension": ".py",
   "mimetype": "text/x-python",
   "name": "python",
   "nbconvert_exporter": "python",
   "pygments_lexer": "ipython3",
   "version": "3.12.2"
  }
 },
 "nbformat": 4,
 "nbformat_minor": 2
}
